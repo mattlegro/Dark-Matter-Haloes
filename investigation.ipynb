{
 "cells": [
  {
   "cell_type": "code",
   "execution_count": 75,
   "metadata": {},
   "outputs": [],
   "source": [
    "import pandas as pd\n",
    "import numpy as np\n",
    "import matplotlib.pyplot as plt\n",
    "import seaborn as sns\n",
    "from sklearn.model_selection import train_test_split\n",
    "from sklearn.metrics import accuracy_score, confusion_matrix, classification_report\n",
    "from sklearn.tree import DecisionTreeClassifier\n",
    "from sklearn import tree\n",
    "from sklearn.ensemble import BaggingClassifier, RandomForestClassifier"
   ]
  },
  {
   "cell_type": "code",
   "execution_count": 18,
   "metadata": {},
   "outputs": [],
   "source": [
    "columns = pd.read_csv('columns.txt', delim_whitespace = True)\n",
    "data = pd.read_csv('haloes_list.txt', delim_whitespace = True, names = list(columns))"
   ]
  },
  {
   "cell_type": "code",
   "execution_count": 19,
   "metadata": {},
   "outputs": [
    {
     "data": {
      "text/html": [
       "<div>\n",
       "<style scoped>\n",
       "    .dataframe tbody tr th:only-of-type {\n",
       "        vertical-align: middle;\n",
       "    }\n",
       "\n",
       "    .dataframe tbody tr th {\n",
       "        vertical-align: top;\n",
       "    }\n",
       "\n",
       "    .dataframe thead th {\n",
       "        text-align: right;\n",
       "    }\n",
       "</style>\n",
       "<table border=\"1\" class=\"dataframe\">\n",
       "  <thead>\n",
       "    <tr style=\"text-align: right;\">\n",
       "      <th></th>\n",
       "      <th>scale(0)</th>\n",
       "      <th>id(1)</th>\n",
       "      <th>desc_scale(2)</th>\n",
       "      <th>desc_id(3)</th>\n",
       "      <th>num_prog(4)</th>\n",
       "      <th>pid(5)</th>\n",
       "      <th>upid(6)</th>\n",
       "      <th>desc_pid(7)</th>\n",
       "      <th>phantom(8)</th>\n",
       "      <th>sam_mvir(9)</th>\n",
       "      <th>...</th>\n",
       "      <th>Mpeak_Scale(69)</th>\n",
       "      <th>Acc_Scale(70)</th>\n",
       "      <th>First_Acc_Scale(71)</th>\n",
       "      <th>First_Acc_Mvir(72)</th>\n",
       "      <th>First_Acc_Vmax(73)</th>\n",
       "      <th>Vmax\\@Mpeak(74)</th>\n",
       "      <th>Tidal_Force_Tdyn(75)</th>\n",
       "      <th>Log_(Vmax/Vmax_max(Tdyn;Tmpeak))(76)</th>\n",
       "      <th>Time_to_future_merger(77)</th>\n",
       "      <th>Future_merger_MMP_ID(78)</th>\n",
       "    </tr>\n",
       "  </thead>\n",
       "  <tbody>\n",
       "    <tr>\n",
       "      <th>0</th>\n",
       "      <td>0.05562</td>\n",
       "      <td>94</td>\n",
       "      <td>0.06012</td>\n",
       "      <td>8598</td>\n",
       "      <td>0</td>\n",
       "      <td>-1</td>\n",
       "      <td>-1</td>\n",
       "      <td>-1</td>\n",
       "      <td>0</td>\n",
       "      <td>7.748000e+08</td>\n",
       "      <td>...</td>\n",
       "      <td>0.05562</td>\n",
       "      <td>0.05562</td>\n",
       "      <td>0.05562</td>\n",
       "      <td>7.748000e+08</td>\n",
       "      <td>57.90</td>\n",
       "      <td>57.90</td>\n",
       "      <td>0.00000</td>\n",
       "      <td>0.0</td>\n",
       "      <td>-1.00000</td>\n",
       "      <td>94</td>\n",
       "    </tr>\n",
       "    <tr>\n",
       "      <th>1</th>\n",
       "      <td>0.05562</td>\n",
       "      <td>444</td>\n",
       "      <td>0.06012</td>\n",
       "      <td>7591</td>\n",
       "      <td>0</td>\n",
       "      <td>-1</td>\n",
       "      <td>-1</td>\n",
       "      <td>-1</td>\n",
       "      <td>0</td>\n",
       "      <td>9.298000e+08</td>\n",
       "      <td>...</td>\n",
       "      <td>0.05562</td>\n",
       "      <td>0.05562</td>\n",
       "      <td>0.05562</td>\n",
       "      <td>9.298000e+08</td>\n",
       "      <td>58.34</td>\n",
       "      <td>58.34</td>\n",
       "      <td>0.00000</td>\n",
       "      <td>0.0</td>\n",
       "      <td>0.27501</td>\n",
       "      <td>-1</td>\n",
       "    </tr>\n",
       "    <tr>\n",
       "      <th>2</th>\n",
       "      <td>0.05562</td>\n",
       "      <td>60</td>\n",
       "      <td>0.06012</td>\n",
       "      <td>7669</td>\n",
       "      <td>0</td>\n",
       "      <td>-1</td>\n",
       "      <td>-1</td>\n",
       "      <td>-1</td>\n",
       "      <td>0</td>\n",
       "      <td>4.029000e+09</td>\n",
       "      <td>...</td>\n",
       "      <td>0.05562</td>\n",
       "      <td>0.05562</td>\n",
       "      <td>0.05562</td>\n",
       "      <td>4.029000e+09</td>\n",
       "      <td>93.26</td>\n",
       "      <td>93.26</td>\n",
       "      <td>0.00000</td>\n",
       "      <td>0.0</td>\n",
       "      <td>-1.00000</td>\n",
       "      <td>60</td>\n",
       "    </tr>\n",
       "    <tr>\n",
       "      <th>3</th>\n",
       "      <td>0.05562</td>\n",
       "      <td>61</td>\n",
       "      <td>0.06012</td>\n",
       "      <td>7672</td>\n",
       "      <td>0</td>\n",
       "      <td>-1</td>\n",
       "      <td>-1</td>\n",
       "      <td>-1</td>\n",
       "      <td>0</td>\n",
       "      <td>2.634000e+09</td>\n",
       "      <td>...</td>\n",
       "      <td>0.05562</td>\n",
       "      <td>0.05562</td>\n",
       "      <td>0.05562</td>\n",
       "      <td>2.634000e+09</td>\n",
       "      <td>80.18</td>\n",
       "      <td>80.18</td>\n",
       "      <td>0.16957</td>\n",
       "      <td>0.0</td>\n",
       "      <td>0.47444</td>\n",
       "      <td>60</td>\n",
       "    </tr>\n",
       "    <tr>\n",
       "      <th>4</th>\n",
       "      <td>0.05562</td>\n",
       "      <td>757</td>\n",
       "      <td>0.06012</td>\n",
       "      <td>7716</td>\n",
       "      <td>0</td>\n",
       "      <td>-1</td>\n",
       "      <td>-1</td>\n",
       "      <td>-1</td>\n",
       "      <td>0</td>\n",
       "      <td>4.649000e+09</td>\n",
       "      <td>...</td>\n",
       "      <td>0.05562</td>\n",
       "      <td>0.05562</td>\n",
       "      <td>0.05562</td>\n",
       "      <td>4.649000e+09</td>\n",
       "      <td>120.10</td>\n",
       "      <td>120.10</td>\n",
       "      <td>0.00000</td>\n",
       "      <td>0.0</td>\n",
       "      <td>-1.00000</td>\n",
       "      <td>757</td>\n",
       "    </tr>\n",
       "  </tbody>\n",
       "</table>\n",
       "<p>5 rows × 79 columns</p>\n",
       "</div>"
      ],
      "text/plain": [
       "   scale(0)  id(1)  desc_scale(2)  desc_id(3)  num_prog(4)  pid(5)  upid(6)  \\\n",
       "0   0.05562     94        0.06012        8598            0      -1       -1   \n",
       "1   0.05562    444        0.06012        7591            0      -1       -1   \n",
       "2   0.05562     60        0.06012        7669            0      -1       -1   \n",
       "3   0.05562     61        0.06012        7672            0      -1       -1   \n",
       "4   0.05562    757        0.06012        7716            0      -1       -1   \n",
       "\n",
       "   desc_pid(7)  phantom(8)   sam_mvir(9)  ...  Mpeak_Scale(69)  Acc_Scale(70)  \\\n",
       "0           -1           0  7.748000e+08  ...          0.05562        0.05562   \n",
       "1           -1           0  9.298000e+08  ...          0.05562        0.05562   \n",
       "2           -1           0  4.029000e+09  ...          0.05562        0.05562   \n",
       "3           -1           0  2.634000e+09  ...          0.05562        0.05562   \n",
       "4           -1           0  4.649000e+09  ...          0.05562        0.05562   \n",
       "\n",
       "   First_Acc_Scale(71)  First_Acc_Mvir(72)  First_Acc_Vmax(73)  \\\n",
       "0              0.05562        7.748000e+08               57.90   \n",
       "1              0.05562        9.298000e+08               58.34   \n",
       "2              0.05562        4.029000e+09               93.26   \n",
       "3              0.05562        2.634000e+09               80.18   \n",
       "4              0.05562        4.649000e+09              120.10   \n",
       "\n",
       "   Vmax\\@Mpeak(74)  Tidal_Force_Tdyn(75)  \\\n",
       "0            57.90               0.00000   \n",
       "1            58.34               0.00000   \n",
       "2            93.26               0.00000   \n",
       "3            80.18               0.16957   \n",
       "4           120.10               0.00000   \n",
       "\n",
       "   Log_(Vmax/Vmax_max(Tdyn;Tmpeak))(76)  Time_to_future_merger(77)  \\\n",
       "0                                   0.0                   -1.00000   \n",
       "1                                   0.0                    0.27501   \n",
       "2                                   0.0                   -1.00000   \n",
       "3                                   0.0                    0.47444   \n",
       "4                                   0.0                   -1.00000   \n",
       "\n",
       "   Future_merger_MMP_ID(78)  \n",
       "0                        94  \n",
       "1                        -1  \n",
       "2                        60  \n",
       "3                        60  \n",
       "4                       757  \n",
       "\n",
       "[5 rows x 79 columns]"
      ]
     },
     "execution_count": 19,
     "metadata": {},
     "output_type": "execute_result"
    }
   ],
   "source": [
    "data.head()"
   ]
  },
  {
   "cell_type": "code",
   "execution_count": 21,
   "metadata": {},
   "outputs": [
    {
     "data": {
      "text/plain": [
       "<AxesSubplot:xlabel='mvir(10)', ylabel='Count'>"
      ]
     },
     "execution_count": 21,
     "metadata": {},
     "output_type": "execute_result"
    },
    {
     "data": {
      "image/png": "[encoded data removed]",
      "text/plain": [
       "<Figure size 432x288 with 1 Axes>"
      ]
     },
     "metadata": {
      "needs_background": "light"
     },
     "output_type": "display_data"
    }
   ],
   "source": [
    "sns.histplot(data = data, x = 'mvir(10)')"
   ]
  },
  {
   "cell_type": "code",
   "execution_count": 22,
   "metadata": {},
   "outputs": [
    {
     "name": "stdout",
     "output_type": "stream",
     "text": [
      "<class 'pandas.core.frame.DataFrame'>\n",
      "RangeIndex: 90 entries, 0 to 89\n",
      "Data columns (total 79 columns):\n",
      " #   Column                                Non-Null Count  Dtype  \n",
      "---  ------                                --------------  -----  \n",
      " 0   scale(0)                              90 non-null     float64\n",
      " 1   id(1)                                 90 non-null     int64  \n",
      " 2   desc_scale(2)                         90 non-null     float64\n",
      " 3   desc_id(3)                            90 non-null     int64  \n",
      " 4   num_prog(4)                           90 non-null     int64  \n",
      " 5   pid(5)                                90 non-null     int64  \n",
      " 6   upid(6)                               90 non-null     int64  \n",
      " 7   desc_pid(7)                           90 non-null     int64  \n",
      " 8   phantom(8)                            90 non-null     int64  \n",
      " 9   sam_mvir(9)                           90 non-null     float64\n",
      " 10  mvir(10)                              90 non-null     float64\n",
      " 11  rvir(11)                              90 non-null     float64\n",
      " 12  rs(12)                                90 non-null     float64\n",
      " 13  vrms(13)                              90 non-null     float64\n",
      " 14  mmp?(14)                              90 non-null     int64  \n",
      " 15  scale_of_last_MM(15)                  90 non-null     float64\n",
      " 16  vmax(16)                              90 non-null     float64\n",
      " 17  x(17)                                 90 non-null     float64\n",
      " 18  y(18)                                 90 non-null     float64\n",
      " 19  z(19)                                 90 non-null     float64\n",
      " 20  vx(20)                                90 non-null     float64\n",
      " 21  vy(21)                                90 non-null     float64\n",
      " 22  vz(22)                                90 non-null     float64\n",
      " 23  Jx(23)                                90 non-null     float64\n",
      " 24  Jy(24)                                90 non-null     float64\n",
      " 25  Jz(25)                                90 non-null     float64\n",
      " 26  Spin(26)                              90 non-null     float64\n",
      " 27  Breadth_first_ID(27)                  90 non-null     int64  \n",
      " 28  Depth_first_ID(28)                    90 non-null     int64  \n",
      " 29  Tree_root_ID(29)                      90 non-null     int64  \n",
      " 30  Orig_halo_ID(30)                      90 non-null     int64  \n",
      " 31  Snap_num(31)                          90 non-null     int64  \n",
      " 32  Next_coprogenitor_depthfirst_ID(32)   90 non-null     int64  \n",
      " 33  Last_progenitor_depthfirst_ID(33)     90 non-null     int64  \n",
      " 34  Last_mainleaf_depthfirst_ID(34)       90 non-null     int64  \n",
      " 35  Tidal_Force(35)                       90 non-null     float64\n",
      " 36  Tidal_ID(36)                          90 non-null     int64  \n",
      " 37  Rs_Klypin(37)                         90 non-null     float64\n",
      " 38  Mvir_all(38)                          90 non-null     int64  \n",
      " 39  M200b(39)                             90 non-null     int64  \n",
      " 40  M200c(40)                             90 non-null     int64  \n",
      " 41  M500c(41)                             90 non-null     int64  \n",
      " 42  M2500c(42)                            90 non-null     int64  \n",
      " 43  Xoff(43)                              90 non-null     float64\n",
      " 44  Voff(44)                              90 non-null     float64\n",
      " 45  Spin_Bullock(45)                      90 non-null     float64\n",
      " 46  b_to_a(46)                            90 non-null     float64\n",
      " 47  c_to_a(47)                            90 non-null     float64\n",
      " 48  A[x](48)                              90 non-null     float64\n",
      " 49  A[y](49)                              90 non-null     float64\n",
      " 50  A[z](50)                              90 non-null     float64\n",
      " 51  b_to_a(500c)(51)                      90 non-null     float64\n",
      " 52  c_to_a(500c)(52)                      90 non-null     float64\n",
      " 53  A[x](500c)(53)                        90 non-null     float64\n",
      " 54  A[y](500c)(54)                        90 non-null     float64\n",
      " 55  A[z](500c)(55)                        90 non-null     float64\n",
      " 56  T/|U|(56)                             90 non-null     float64\n",
      " 57  M_pe_Behroozi(57)                     90 non-null     int64  \n",
      " 58  M_pe_Diemer(58)                       90 non-null     int64  \n",
      " 59  Macc(59)                              90 non-null     float64\n",
      " 60  Mpeak(60)                             90 non-null     float64\n",
      " 61  Vacc(61)                              90 non-null     float64\n",
      " 62  Vpeak(62)                             90 non-null     float64\n",
      " 63  Halfmass_Scale(63)                    90 non-null     float64\n",
      " 64  Acc_Rate_Inst(64)                     90 non-null     float64\n",
      " 65  Acc_Rate_100Myr(65)                   90 non-null     float64\n",
      " 66  Acc_Rate_1*Tdyn(66)                   90 non-null     float64\n",
      " 67  Acc_Rate_2*Tdyn(67)                   90 non-null     float64\n",
      " 68  Acc_Rate_Mpeak(68)                    90 non-null     float64\n",
      " 69  Mpeak_Scale(69)                       90 non-null     float64\n",
      " 70  Acc_Scale(70)                         90 non-null     float64\n",
      " 71  First_Acc_Scale(71)                   90 non-null     float64\n",
      " 72  First_Acc_Mvir(72)                    90 non-null     float64\n",
      " 73  First_Acc_Vmax(73)                    90 non-null     float64\n",
      " 74  Vmax\\@Mpeak(74)                       90 non-null     float64\n",
      " 75  Tidal_Force_Tdyn(75)                  90 non-null     float64\n",
      " 76  Log_(Vmax/Vmax_max(Tdyn;Tmpeak))(76)  90 non-null     float64\n",
      " 77  Time_to_future_merger(77)             90 non-null     float64\n",
      " 78  Future_merger_MMP_ID(78)              90 non-null     int64  \n",
      "dtypes: float64(54), int64(25)\n",
      "memory usage: 55.7 KB\n"
     ]
    }
   ],
   "source": [
    "data.info()"
   ]
  },
  {
   "cell_type": "code",
   "execution_count": 37,
   "metadata": {},
   "outputs": [
    {
     "data": {
      "text/plain": [
       "2500000000.0"
      ]
     },
     "execution_count": 37,
     "metadata": {},
     "output_type": "execute_result"
    }
   ],
   "source": [
    "2.5*(10**9)"
   ]
  },
  {
   "cell_type": "code",
   "execution_count": 38,
   "metadata": {},
   "outputs": [
    {
     "data": {
      "text/plain": [
       "0     False\n",
       "1     False\n",
       "2      True\n",
       "3      True\n",
       "4      True\n",
       "      ...  \n",
       "85     True\n",
       "86    False\n",
       "87    False\n",
       "88    False\n",
       "89     True\n",
       "Name: mvir(10), Length: 90, dtype: bool"
      ]
     },
     "execution_count": 38,
     "metadata": {},
     "output_type": "execute_result"
    }
   ],
   "source": [
    "data['mvir(10)'] >= (2.5*(10**9))"
   ]
  },
  {
   "cell_type": "code",
   "execution_count": 43,
   "metadata": {},
   "outputs": [
    {
     "data": {
      "text/plain": [
       "0    0.611111\n",
       "1    0.388889\n",
       "Name: mass_bool, dtype: float64"
      ]
     },
     "execution_count": 43,
     "metadata": {},
     "output_type": "execute_result"
    }
   ],
   "source": [
    "data['mass_bool'] = data['mvir(10)'].apply(lambda x: 0 if x <= 1.5*(10**9) else 1)\n",
    "data.mass_bool.value_counts(normalize = True)"
   ]
  },
  {
   "cell_type": "code",
   "execution_count": 44,
   "metadata": {},
   "outputs": [],
   "source": [
    "target = data['mass_bool']\n",
    "predictors = data[['rvir(11)','rs(12)','vrms(13)','vmax(16)','vx(20)','vy(21)','vz(22)',\n",
    "                   'T/|U|(56)','Acc_Rate_Inst(64)']]"
   ]
  },
  {
   "cell_type": "code",
   "execution_count": 45,
   "metadata": {},
   "outputs": [],
   "source": [
    "data_train, data_test, target_train, target_test = train_test_split(predictors, target, \n",
    "                                                                    test_size = 0.25, random_state=123)"
   ]
  },
  {
   "cell_type": "code",
   "execution_count": 46,
   "metadata": {},
   "outputs": [
    {
     "data": {
      "text/plain": [
       "RandomForestClassifier(max_depth=5)"
      ]
     },
     "execution_count": 46,
     "metadata": {},
     "output_type": "execute_result"
    }
   ],
   "source": [
    "forest = RandomForestClassifier(max_depth = 5)\n",
    "forest.fit(data_train, target_train)"
   ]
  },
  {
   "cell_type": "code",
   "execution_count": 47,
   "metadata": {},
   "outputs": [
    {
     "data": {
      "text/plain": [
       "1.0"
      ]
     },
     "execution_count": 47,
     "metadata": {},
     "output_type": "execute_result"
    }
   ],
   "source": [
    "forest.score(data_train, target_train)"
   ]
  },
  {
   "cell_type": "code",
   "execution_count": 49,
   "metadata": {},
   "outputs": [
    {
     "data": {
      "text/plain": [
       "1.0"
      ]
     },
     "execution_count": 49,
     "metadata": {},
     "output_type": "execute_result"
    }
   ],
   "source": [
    "forest.score(data_test, target_test)"
   ]
  },
  {
   "cell_type": "code",
   "execution_count": 50,
   "metadata": {},
   "outputs": [
    {
     "data": {
      "text/plain": [
       "DecisionTreeClassifier(max_depth=5, max_features='auto',\n",
       "                       random_state=1804458789)"
      ]
     },
     "execution_count": 50,
     "metadata": {},
     "output_type": "execute_result"
    }
   ],
   "source": [
    "forest.estimators_[0]"
   ]
  },
  {
   "cell_type": "code",
   "execution_count": 51,
   "metadata": {},
   "outputs": [],
   "source": [
    "def plot_feature_importances(model):\n",
    "    n_features = data_train.shape[1]\n",
    "    plt.figure(figsize=(8,8))\n",
    "    plt.barh(range(n_features), model.feature_importances_, align='center') \n",
    "    plt.yticks(np.arange(n_features), data_train.columns.values) \n",
    "    plt.xlabel('Feature importance')\n",
    "    plt.ylabel('Feature')"
   ]
  },
  {
   "cell_type": "code",
   "execution_count": 73,
   "metadata": {},
   "outputs": [
    {
     "data": {
      "image/png": "[encoded data removed]",
      "text/plain": [
       "<Figure size 576x576 with 1 Axes>"
      ]
     },
     "metadata": {
      "needs_background": "light"
     },
     "output_type": "display_data"
    }
   ],
   "source": [
    "plot_feature_importances(forest.estimators_[7])"
   ]
  },
  {
   "cell_type": "code",
   "execution_count": 55,
   "metadata": {},
   "outputs": [
    {
     "data": {
      "text/plain": [
       "DecisionTreeClassifier(max_depth=5, max_features='auto', random_state=985553863)"
      ]
     },
     "execution_count": 55,
     "metadata": {},
     "output_type": "execute_result"
    }
   ],
   "source": [
    "forest.estimators_[2]"
   ]
  },
  {
   "cell_type": "code",
   "execution_count": 63,
   "metadata": {},
   "outputs": [
    {
     "data": {
      "text/plain": [
       "{'bootstrap': True,\n",
       " 'ccp_alpha': 0.0,\n",
       " 'class_weight': None,\n",
       " 'criterion': 'gini',\n",
       " 'max_depth': 5,\n",
       " 'max_features': 'auto',\n",
       " 'max_leaf_nodes': None,\n",
       " 'max_samples': None,\n",
       " 'min_impurity_decrease': 0.0,\n",
       " 'min_impurity_split': None,\n",
       " 'min_samples_leaf': 1,\n",
       " 'min_samples_split': 2,\n",
       " 'min_weight_fraction_leaf': 0.0,\n",
       " 'n_estimators': 100,\n",
       " 'n_jobs': None,\n",
       " 'oob_score': False,\n",
       " 'random_state': None,\n",
       " 'verbose': 0,\n",
       " 'warm_start': False}"
      ]
     },
     "execution_count": 63,
     "metadata": {},
     "output_type": "execute_result"
    }
   ],
   "source": [
    "feat_imps = forest.feature_importances_\n",
    "forest.get_params()"
   ]
  },
  {
   "cell_type": "code",
   "execution_count": 84,
   "metadata": {},
   "outputs": [
    {
     "data": {
      "text/plain": [
       "<AxesSubplot:>"
      ]
     },
     "execution_count": 84,
     "metadata": {},
     "output_type": "execute_result"
    },
    {
     "data": {
      "image/png": "[encoded data removed]",
      "text/plain": [
       "<Figure size 432x288 with 1 Axes>"
      ]
     },
     "metadata": {
      "needs_background": "light"
     },
     "output_type": "display_data"
    }
   ],
   "source": [
    "sns.barplot(x = forest.feature_importances_, y = predictors.columns)"
   ]
  },
  {
   "cell_type": "code",
   "execution_count": 86,
   "metadata": {},
   "outputs": [
    {
     "data": {
      "text/plain": [
       "[Text(133.92000000000002, 190.26, 'vrms(13) <= 48.355\\ngini = 0.46\\nsamples = 47\\nvalue = [43, 24]'),\n",
       " Text(66.96000000000001, 135.9, 'gini = 0.0\\nsamples = 28\\nvalue = [40, 0]'),\n",
       " Text(200.88000000000002, 135.9, 'vy(21) <= 131.64\\ngini = 0.198\\nsamples = 19\\nvalue = [3, 24]'),\n",
       " Text(133.92000000000002, 81.53999999999999, 'vz(22) <= 170.85\\ngini = 0.077\\nsamples = 18\\nvalue = [1, 24]'),\n",
       " Text(66.96000000000001, 27.180000000000007, 'gini = 0.0\\nsamples = 17\\nvalue = [0, 24]'),\n",
       " Text(200.88000000000002, 27.180000000000007, 'gini = 0.0\\nsamples = 1\\nvalue = [1, 0]'),\n",
       " Text(267.84000000000003, 81.53999999999999, 'gini = 0.0\\nsamples = 1\\nvalue = [2, 0]')]"
      ]
     },
     "execution_count": 86,
     "metadata": {},
     "output_type": "execute_result"
    },
    {
     "data": {
      "image/png": "[encoded data removed]",
      "text/plain": [
       "<Figure size 432x288 with 1 Axes>"
      ]
     },
     "metadata": {
      "needs_background": "light"
     },
     "output_type": "display_data"
    }
   ],
   "source": [
    "tree.plot_tree(forest.estimators_[7], feature_names = predictors.columns, filled = True)"
   ]
  },
  {
   "cell_type": "code",
   "execution_count": 81,
   "metadata": {},
   "outputs": [
    {
     "data": {
      "text/plain": [
       "Index(['rvir(11)', 'rs(12)', 'vrms(13)', 'vmax(16)', 'vx(20)', 'vy(21)',\n",
       "       'vz(22)', 'T/|U|(56)', 'Acc_Rate_Inst(64)'],\n",
       "      dtype='object')"
      ]
     },
     "execution_count": 81,
     "metadata": {},
     "output_type": "execute_result"
    }
   ],
   "source": [
    "predictors.columns"
   ]
  },
  {
   "cell_type": "code",
   "execution_count": null,
   "metadata": {},
   "outputs": [],
   "source": []
  }
 ],
 "metadata": {
  "kernelspec": {
   "display_name": "Python 3",
   "language": "python",
   "name": "python3"
  },
  "language_info": {
   "codemirror_mode": {
    "name": "ipython",
    "version": 3
   },
   "file_extension": ".py",
   "mimetype": "text/x-python",
   "name": "python",
   "nbconvert_exporter": "python",
   "pygments_lexer": "ipython3",
   "version": "3.8.5"
  }
 },
 "nbformat": 4,
 "nbformat_minor": 4
}
